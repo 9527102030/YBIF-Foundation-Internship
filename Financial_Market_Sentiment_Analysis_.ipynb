{
  "nbformat": 4,
  "nbformat_minor": 0,
  "metadata": {
    "colab": {
      "name": "Project 9:Financial Market Sentiment Analysis .ipynb",
      "provenance": [],
      "collapsed_sections": []
    },
    "kernelspec": {
      "name": "python3",
      "display_name": "Python 3"
    },
    "language_info": {
      "name": "python"
    }
  },
  "cells": [
    {
      "cell_type": "markdown",
      "source": [
        "#Financial Market Sentiment Analysis"
      ],
      "metadata": {
        "id": "u_900DAS5IvJ"
      }
    },
    {
      "cell_type": "markdown",
      "metadata": {
        "id": "EoRP98MpR-qj"
      },
      "source": [
        "# Importing the libraries"
      ]
    },
    {
      "cell_type": "code",
      "metadata": {
        "id": "N-qiINBQSK2g"
      },
      "source": [
        "import numpy as np\n",
        "import matplotlib.pyplot as plt\n",
        "import pandas as pd"
      ],
      "execution_count": 4,
      "outputs": []
    },
    {
      "cell_type": "markdown",
      "metadata": {
        "id": "RopL7tUZSQkT"
      },
      "source": [
        "# Importing the dataset"
      ]
    },
    {
      "cell_type": "code",
      "metadata": {
        "id": "WwEPNDWySTKm"
      },
      "source": [
        "df = pd.read_csv('https://raw.github.com/YBI-Foundation/Dataset/main/Financial%20Market%20News.csv',encoding=\"ISO-8859-1\")"
      ],
      "execution_count": 5,
      "outputs": []
    },
    {
      "cell_type": "markdown",
      "source": [
        "# Get Information of Dataframe\n"
      ],
      "metadata": {
        "id": "IfUmktUTMZ92"
      }
    },
    {
      "cell_type": "code",
      "source": [
        "df.info()   #gives column name, count,  not null category, D-type(data type)"
      ],
      "metadata": {
        "id": "S7tNGxHcMfJr",
        "colab": {
          "base_uri": "https://localhost:8080/"
        },
        "outputId": "9459e113-ecca-482a-af09-0521732db902"
      },
      "execution_count": 6,
      "outputs": [
        {
          "output_type": "stream",
          "name": "stdout",
          "text": [
            "<class 'pandas.core.frame.DataFrame'>\n",
            "RangeIndex: 4101 entries, 0 to 4100\n",
            "Data columns (total 27 columns):\n",
            " #   Column   Non-Null Count  Dtype \n",
            "---  ------   --------------  ----- \n",
            " 0   Date     4101 non-null   object\n",
            " 1   Label    4101 non-null   int64 \n",
            " 2   News 1   4101 non-null   object\n",
            " 3   News 2   4101 non-null   object\n",
            " 4   News 3   4101 non-null   object\n",
            " 5   News 4   4101 non-null   object\n",
            " 6   News 5   4101 non-null   object\n",
            " 7   News 6   4101 non-null   object\n",
            " 8   News 7   4101 non-null   object\n",
            " 9   News 8   4101 non-null   object\n",
            " 10  News 9   4101 non-null   object\n",
            " 11  News 10  4101 non-null   object\n",
            " 12  News 11  4101 non-null   object\n",
            " 13  News 12  4101 non-null   object\n",
            " 14  News 13  4101 non-null   object\n",
            " 15  News 14  4101 non-null   object\n",
            " 16  News 15  4101 non-null   object\n",
            " 17  News 16  4101 non-null   object\n",
            " 18  News 17  4101 non-null   object\n",
            " 19  News 18  4101 non-null   object\n",
            " 20  News 19  4101 non-null   object\n",
            " 21  News 20  4101 non-null   object\n",
            " 22  News 21  4101 non-null   object\n",
            " 23  News 22  4101 non-null   object\n",
            " 24  News 23  4100 non-null   object\n",
            " 25  News 24  4098 non-null   object\n",
            " 26  News 25  4098 non-null   object\n",
            "dtypes: int64(1), object(26)\n",
            "memory usage: 865.2+ KB\n"
          ]
        }
      ]
    },
    {
      "cell_type": "code",
      "source": [
        "df.describe()   #gives the linear relation of each column with another column"
      ],
      "metadata": {
        "id": "X69vomCWssvQ",
        "colab": {
          "base_uri": "https://localhost:8080/",
          "height": 300
        },
        "outputId": "f0cfdbc2-5638-4d02-878d-c6b191c44a41"
      },
      "execution_count": 7,
      "outputs": [
        {
          "output_type": "execute_result",
          "data": {
            "text/plain": [
              "             Label\n",
              "count  4101.000000\n",
              "mean      0.528164\n",
              "std       0.499267\n",
              "min       0.000000\n",
              "25%       0.000000\n",
              "50%       1.000000\n",
              "75%       1.000000\n",
              "max       1.000000"
            ],
            "text/html": [
              "\n",
              "  <div id=\"df-19a991be-9c5e-42aa-9684-5510f36dbf9e\">\n",
              "    <div class=\"colab-df-container\">\n",
              "      <div>\n",
              "<style scoped>\n",
              "    .dataframe tbody tr th:only-of-type {\n",
              "        vertical-align: middle;\n",
              "    }\n",
              "\n",
              "    .dataframe tbody tr th {\n",
              "        vertical-align: top;\n",
              "    }\n",
              "\n",
              "    .dataframe thead th {\n",
              "        text-align: right;\n",
              "    }\n",
              "</style>\n",
              "<table border=\"1\" class=\"dataframe\">\n",
              "  <thead>\n",
              "    <tr style=\"text-align: right;\">\n",
              "      <th></th>\n",
              "      <th>Label</th>\n",
              "    </tr>\n",
              "  </thead>\n",
              "  <tbody>\n",
              "    <tr>\n",
              "      <th>count</th>\n",
              "      <td>4101.000000</td>\n",
              "    </tr>\n",
              "    <tr>\n",
              "      <th>mean</th>\n",
              "      <td>0.528164</td>\n",
              "    </tr>\n",
              "    <tr>\n",
              "      <th>std</th>\n",
              "      <td>0.499267</td>\n",
              "    </tr>\n",
              "    <tr>\n",
              "      <th>min</th>\n",
              "      <td>0.000000</td>\n",
              "    </tr>\n",
              "    <tr>\n",
              "      <th>25%</th>\n",
              "      <td>0.000000</td>\n",
              "    </tr>\n",
              "    <tr>\n",
              "      <th>50%</th>\n",
              "      <td>1.000000</td>\n",
              "    </tr>\n",
              "    <tr>\n",
              "      <th>75%</th>\n",
              "      <td>1.000000</td>\n",
              "    </tr>\n",
              "    <tr>\n",
              "      <th>max</th>\n",
              "      <td>1.000000</td>\n",
              "    </tr>\n",
              "  </tbody>\n",
              "</table>\n",
              "</div>\n",
              "      <button class=\"colab-df-convert\" onclick=\"convertToInteractive('df-19a991be-9c5e-42aa-9684-5510f36dbf9e')\"\n",
              "              title=\"Convert this dataframe to an interactive table.\"\n",
              "              style=\"display:none;\">\n",
              "        \n",
              "  <svg xmlns=\"http://www.w3.org/2000/svg\" height=\"24px\"viewBox=\"0 0 24 24\"\n",
              "       width=\"24px\">\n",
              "    <path d=\"M0 0h24v24H0V0z\" fill=\"none\"/>\n",
              "    <path d=\"M18.56 5.44l.94 2.06.94-2.06 2.06-.94-2.06-.94-.94-2.06-.94 2.06-2.06.94zm-11 1L8.5 8.5l.94-2.06 2.06-.94-2.06-.94L8.5 2.5l-.94 2.06-2.06.94zm10 10l.94 2.06.94-2.06 2.06-.94-2.06-.94-.94-2.06-.94 2.06-2.06.94z\"/><path d=\"M17.41 7.96l-1.37-1.37c-.4-.4-.92-.59-1.43-.59-.52 0-1.04.2-1.43.59L10.3 9.45l-7.72 7.72c-.78.78-.78 2.05 0 2.83L4 21.41c.39.39.9.59 1.41.59.51 0 1.02-.2 1.41-.59l7.78-7.78 2.81-2.81c.8-.78.8-2.07 0-2.86zM5.41 20L4 18.59l7.72-7.72 1.47 1.35L5.41 20z\"/>\n",
              "  </svg>\n",
              "      </button>\n",
              "      \n",
              "  <style>\n",
              "    .colab-df-container {\n",
              "      display:flex;\n",
              "      flex-wrap:wrap;\n",
              "      gap: 12px;\n",
              "    }\n",
              "\n",
              "    .colab-df-convert {\n",
              "      background-color: #E8F0FE;\n",
              "      border: none;\n",
              "      border-radius: 50%;\n",
              "      cursor: pointer;\n",
              "      display: none;\n",
              "      fill: #1967D2;\n",
              "      height: 32px;\n",
              "      padding: 0 0 0 0;\n",
              "      width: 32px;\n",
              "    }\n",
              "\n",
              "    .colab-df-convert:hover {\n",
              "      background-color: #E2EBFA;\n",
              "      box-shadow: 0px 1px 2px rgba(60, 64, 67, 0.3), 0px 1px 3px 1px rgba(60, 64, 67, 0.15);\n",
              "      fill: #174EA6;\n",
              "    }\n",
              "\n",
              "    [theme=dark] .colab-df-convert {\n",
              "      background-color: #3B4455;\n",
              "      fill: #D2E3FC;\n",
              "    }\n",
              "\n",
              "    [theme=dark] .colab-df-convert:hover {\n",
              "      background-color: #434B5C;\n",
              "      box-shadow: 0px 1px 3px 1px rgba(0, 0, 0, 0.15);\n",
              "      filter: drop-shadow(0px 1px 2px rgba(0, 0, 0, 0.3));\n",
              "      fill: #FFFFFF;\n",
              "    }\n",
              "  </style>\n",
              "\n",
              "      <script>\n",
              "        const buttonEl =\n",
              "          document.querySelector('#df-19a991be-9c5e-42aa-9684-5510f36dbf9e button.colab-df-convert');\n",
              "        buttonEl.style.display =\n",
              "          google.colab.kernel.accessAllowed ? 'block' : 'none';\n",
              "\n",
              "        async function convertToInteractive(key) {\n",
              "          const element = document.querySelector('#df-19a991be-9c5e-42aa-9684-5510f36dbf9e');\n",
              "          const dataTable =\n",
              "            await google.colab.kernel.invokeFunction('convertToInteractive',\n",
              "                                                     [key], {});\n",
              "          if (!dataTable) return;\n",
              "\n",
              "          const docLinkHtml = 'Like what you see? Visit the ' +\n",
              "            '<a target=\"_blank\" href=https://colab.research.google.com/notebooks/data_table.ipynb>data table notebook</a>'\n",
              "            + ' to learn more about interactive tables.';\n",
              "          element.innerHTML = '';\n",
              "          dataTable['output_type'] = 'display_data';\n",
              "          await google.colab.output.renderOutput(dataTable, element);\n",
              "          const docLink = document.createElement('div');\n",
              "          docLink.innerHTML = docLinkHtml;\n",
              "          element.appendChild(docLink);\n",
              "        }\n",
              "      </script>\n",
              "    </div>\n",
              "  </div>\n",
              "  "
            ]
          },
          "metadata": {},
          "execution_count": 7
        }
      ]
    },
    {
      "cell_type": "code",
      "source": [
        "df.head()"
      ],
      "metadata": {
        "id": "8NIpjYr3Mdwk",
        "colab": {
          "base_uri": "https://localhost:8080/",
          "height": 768
        },
        "outputId": "a3211a7b-8ff0-47e6-d8ec-d7625310c815"
      },
      "execution_count": 8,
      "outputs": [
        {
          "output_type": "execute_result",
          "data": {
            "text/plain": [
              "         Date  Label                                             News 1  \\\n",
              "0  01-01-2010      0           McIlroy's men catch cold from Gudjonsson   \n",
              "1  02-01-2010      0               Warning from history points to crash   \n",
              "2  03-01-2010      0      Comment: Why Israel's peaceniks feel betrayed   \n",
              "3  04-01-2010      1             £750,000-a-goal Weah aims parting shot   \n",
              "4  05-01-2010      1  Leeds arrive in Turkey to the silence of the fans   \n",
              "\n",
              "                                       News 2  \\\n",
              "0                       Obituary: Brian Walsh   \n",
              "1              Investors flee to dollar haven   \n",
              "2  Court deals blow to seizure of drug assets   \n",
              "3            Newcastle pay for Fletcher years   \n",
              "4     One woman's vision offers loan lifeline   \n",
              "\n",
              "                                            News 3  \\\n",
              "0       Workplace blues leave employers in the red   \n",
              "1                      Banks and tobacco in favour   \n",
              "2                       An ideal target for spooks   \n",
              "3  Brown sent to the stands for Scotland qualifier   \n",
              "4          Working Lives: How world leaders worked   \n",
              "\n",
              "                                        News 4  \\\n",
              "0                     Classical review: Rattle   \n",
              "1                        Review: Llama Farmers   \n",
              "2  World steps between two sides intent on war   \n",
              "3         Tourists wary of breaking new ground   \n",
              "4           Working Lives: Tricks of the trade   \n",
              "\n",
              "                                              News 5  \\\n",
              "0                     Dance review: Merce Cunningham   \n",
              "1                       War jitters lead to sell-off   \n",
              "2                       What the region's papers say   \n",
              "3              Canary Wharf climbs into the FTSE 100   \n",
              "4  Working Lives: six-hour days, long lunches and...   \n",
              "\n",
              "                                         News 6  \\\n",
              "0  Genetic tests to be used in setting premiums   \n",
              "1                    Your not-so-secret history   \n",
              "2           Comment: Fear and rage in Palestine   \n",
              "3                           Review: Bill Bailey   \n",
              "4                        Pop review: We Love UK   \n",
              "\n",
              "                                          News 7  \\\n",
              "0                        Opera review: La Bohème   \n",
              "1                  Review: The Northern Sinfonia   \n",
              "2  Poverty and resentment fuels Palestinian fury   \n",
              "3                              Review: Classical   \n",
              "4               World music review: Marisa Monte   \n",
              "\n",
              "                                        News 8  ...  \\\n",
              "0                   Pop review: Britney Spears  ...   \n",
              "1                             Review: Hysteria  ...   \n",
              "2  Republican feud fear as dissident is killed  ...   \n",
              "3              Review: New Contemporaries 2000  ...   \n",
              "4             Art review:  Hollingsworth/Heyer  ...   \n",
              "\n",
              "                                News 16                              News 17  \\\n",
              "0                 Finland 0 - 0 England                   Healy a marked man   \n",
              "1  Why Wenger will stick to his Gunners  Out of luck England hit rock bottom   \n",
              "2             FTSE goes upwardly mobile             At this price?  BP Amoco   \n",
              "3         More cash on way for counties      Cairns carries Kiwis to victory   \n",
              "4          Duisenberg in double trouble           Pru to cut pension charges   \n",
              "\n",
              "                                             News 18  \\\n",
              "0                     Happy birthday Harpers & Queen   \n",
              "1                         Wilkinson out of his depth   \n",
              "2                                            Go fish   \n",
              "3  Year of Blanchflower's flourish when Spurs sto...   \n",
              "4                            Art review: Paul Graham   \n",
              "\n",
              "                                             News 19  \\\n",
              "0  Win unlimited access to the Raindance film fes...   \n",
              "1                   Kinsella sparks Irish power play   \n",
              "2         Bosnian Serb blows himself up to evade law   \n",
              "3      New direct approach brings only pay-per-blues   \n",
              "4               Shearer shot sparks Boro humiliation   \n",
              "\n",
              "                                             News 20  \\\n",
              "0  Labour pledges £800m to bridge north-south divide   \n",
              "1                    Brown banished as Scots rebound   \n",
              "2                       Orange float delayed to 2001   \n",
              "3                           Third Division  round-up   \n",
              "4  Ridsdale's lingering fears as Leeds revisit Tu...   \n",
              "\n",
              "                                             News 21  \\\n",
              "0       Wales: Lib-Lab pact firm despite resignation   \n",
              "1                   Battling Wales cling to lifeline   \n",
              "2  Angry factory workers root out fear, favours a...   \n",
              "3                          Second Division  round-up   \n",
              "4            Champions League: Rangers v Galatasaray   \n",
              "\n",
              "                              News 22  \\\n",
              "0                        Donald Dewar   \n",
              "1   Ehiogu close to sealing Boro move   \n",
              "2  Smith defied advice on dome payout   \n",
              "3            First Division  round-up   \n",
              "4   Champions League: Lazio v Arsenal   \n",
              "\n",
              "                                             News 23  \\\n",
              "0  Regenerating homes  regenerates well-being in ...   \n",
              "1                                 Man-to-man marking   \n",
              "2                        Xerox takes the axe to jobs   \n",
              "3                McLean ends his career with a punch   \n",
              "4                                Lazio 1 - 1 Arsenal   \n",
              "\n",
              "                        News 24  \\\n",
              "0   Win £100 worth of underwear   \n",
              "1                   Match stats   \n",
              "2  Comment: Refugees in Britain   \n",
              "3     Heskey grabs triple crown   \n",
              "4           England in Pakistan   \n",
              "\n",
              "                                             News 25  \n",
              "0                             TV guide: Random views  \n",
              "1  French referee at centre of storm is no strang...  \n",
              "2              Maverick who sparked the new intifada  \n",
              "3                   Weah on his way as City march on  \n",
              "4               England given olive-branch reception  \n",
              "\n",
              "[5 rows x 27 columns]"
            ],
            "text/html": [
              "\n",
              "  <div id=\"df-af4cef9a-0c8d-4d03-a68b-0211d8d1e7db\">\n",
              "    <div class=\"colab-df-container\">\n",
              "      <div>\n",
              "<style scoped>\n",
              "    .dataframe tbody tr th:only-of-type {\n",
              "        vertical-align: middle;\n",
              "    }\n",
              "\n",
              "    .dataframe tbody tr th {\n",
              "        vertical-align: top;\n",
              "    }\n",
              "\n",
              "    .dataframe thead th {\n",
              "        text-align: right;\n",
              "    }\n",
              "</style>\n",
              "<table border=\"1\" class=\"dataframe\">\n",
              "  <thead>\n",
              "    <tr style=\"text-align: right;\">\n",
              "      <th></th>\n",
              "      <th>Date</th>\n",
              "      <th>Label</th>\n",
              "      <th>News 1</th>\n",
              "      <th>News 2</th>\n",
              "      <th>News 3</th>\n",
              "      <th>News 4</th>\n",
              "      <th>News 5</th>\n",
              "      <th>News 6</th>\n",
              "      <th>News 7</th>\n",
              "      <th>News 8</th>\n",
              "      <th>...</th>\n",
              "      <th>News 16</th>\n",
              "      <th>News 17</th>\n",
              "      <th>News 18</th>\n",
              "      <th>News 19</th>\n",
              "      <th>News 20</th>\n",
              "      <th>News 21</th>\n",
              "      <th>News 22</th>\n",
              "      <th>News 23</th>\n",
              "      <th>News 24</th>\n",
              "      <th>News 25</th>\n",
              "    </tr>\n",
              "  </thead>\n",
              "  <tbody>\n",
              "    <tr>\n",
              "      <th>0</th>\n",
              "      <td>01-01-2010</td>\n",
              "      <td>0</td>\n",
              "      <td>McIlroy's men catch cold from Gudjonsson</td>\n",
              "      <td>Obituary: Brian Walsh</td>\n",
              "      <td>Workplace blues leave employers in the red</td>\n",
              "      <td>Classical review: Rattle</td>\n",
              "      <td>Dance review: Merce Cunningham</td>\n",
              "      <td>Genetic tests to be used in setting premiums</td>\n",
              "      <td>Opera review: La Bohème</td>\n",
              "      <td>Pop review: Britney Spears</td>\n",
              "      <td>...</td>\n",
              "      <td>Finland 0 - 0 England</td>\n",
              "      <td>Healy a marked man</td>\n",
              "      <td>Happy birthday Harpers &amp; Queen</td>\n",
              "      <td>Win unlimited access to the Raindance film fes...</td>\n",
              "      <td>Labour pledges £800m to bridge north-south divide</td>\n",
              "      <td>Wales: Lib-Lab pact firm despite resignation</td>\n",
              "      <td>Donald Dewar</td>\n",
              "      <td>Regenerating homes  regenerates well-being in ...</td>\n",
              "      <td>Win £100 worth of underwear</td>\n",
              "      <td>TV guide: Random views</td>\n",
              "    </tr>\n",
              "    <tr>\n",
              "      <th>1</th>\n",
              "      <td>02-01-2010</td>\n",
              "      <td>0</td>\n",
              "      <td>Warning from history points to crash</td>\n",
              "      <td>Investors flee to dollar haven</td>\n",
              "      <td>Banks and tobacco in favour</td>\n",
              "      <td>Review: Llama Farmers</td>\n",
              "      <td>War jitters lead to sell-off</td>\n",
              "      <td>Your not-so-secret history</td>\n",
              "      <td>Review: The Northern Sinfonia</td>\n",
              "      <td>Review: Hysteria</td>\n",
              "      <td>...</td>\n",
              "      <td>Why Wenger will stick to his Gunners</td>\n",
              "      <td>Out of luck England hit rock bottom</td>\n",
              "      <td>Wilkinson out of his depth</td>\n",
              "      <td>Kinsella sparks Irish power play</td>\n",
              "      <td>Brown banished as Scots rebound</td>\n",
              "      <td>Battling Wales cling to lifeline</td>\n",
              "      <td>Ehiogu close to sealing Boro move</td>\n",
              "      <td>Man-to-man marking</td>\n",
              "      <td>Match stats</td>\n",
              "      <td>French referee at centre of storm is no strang...</td>\n",
              "    </tr>\n",
              "    <tr>\n",
              "      <th>2</th>\n",
              "      <td>03-01-2010</td>\n",
              "      <td>0</td>\n",
              "      <td>Comment: Why Israel's peaceniks feel betrayed</td>\n",
              "      <td>Court deals blow to seizure of drug assets</td>\n",
              "      <td>An ideal target for spooks</td>\n",
              "      <td>World steps between two sides intent on war</td>\n",
              "      <td>What the region's papers say</td>\n",
              "      <td>Comment: Fear and rage in Palestine</td>\n",
              "      <td>Poverty and resentment fuels Palestinian fury</td>\n",
              "      <td>Republican feud fear as dissident is killed</td>\n",
              "      <td>...</td>\n",
              "      <td>FTSE goes upwardly mobile</td>\n",
              "      <td>At this price?  BP Amoco</td>\n",
              "      <td>Go fish</td>\n",
              "      <td>Bosnian Serb blows himself up to evade law</td>\n",
              "      <td>Orange float delayed to 2001</td>\n",
              "      <td>Angry factory workers root out fear, favours a...</td>\n",
              "      <td>Smith defied advice on dome payout</td>\n",
              "      <td>Xerox takes the axe to jobs</td>\n",
              "      <td>Comment: Refugees in Britain</td>\n",
              "      <td>Maverick who sparked the new intifada</td>\n",
              "    </tr>\n",
              "    <tr>\n",
              "      <th>3</th>\n",
              "      <td>04-01-2010</td>\n",
              "      <td>1</td>\n",
              "      <td>£750,000-a-goal Weah aims parting shot</td>\n",
              "      <td>Newcastle pay for Fletcher years</td>\n",
              "      <td>Brown sent to the stands for Scotland qualifier</td>\n",
              "      <td>Tourists wary of breaking new ground</td>\n",
              "      <td>Canary Wharf climbs into the FTSE 100</td>\n",
              "      <td>Review: Bill Bailey</td>\n",
              "      <td>Review: Classical</td>\n",
              "      <td>Review: New Contemporaries 2000</td>\n",
              "      <td>...</td>\n",
              "      <td>More cash on way for counties</td>\n",
              "      <td>Cairns carries Kiwis to victory</td>\n",
              "      <td>Year of Blanchflower's flourish when Spurs sto...</td>\n",
              "      <td>New direct approach brings only pay-per-blues</td>\n",
              "      <td>Third Division  round-up</td>\n",
              "      <td>Second Division  round-up</td>\n",
              "      <td>First Division  round-up</td>\n",
              "      <td>McLean ends his career with a punch</td>\n",
              "      <td>Heskey grabs triple crown</td>\n",
              "      <td>Weah on his way as City march on</td>\n",
              "    </tr>\n",
              "    <tr>\n",
              "      <th>4</th>\n",
              "      <td>05-01-2010</td>\n",
              "      <td>1</td>\n",
              "      <td>Leeds arrive in Turkey to the silence of the fans</td>\n",
              "      <td>One woman's vision offers loan lifeline</td>\n",
              "      <td>Working Lives: How world leaders worked</td>\n",
              "      <td>Working Lives: Tricks of the trade</td>\n",
              "      <td>Working Lives: six-hour days, long lunches and...</td>\n",
              "      <td>Pop review: We Love UK</td>\n",
              "      <td>World music review: Marisa Monte</td>\n",
              "      <td>Art review:  Hollingsworth/Heyer</td>\n",
              "      <td>...</td>\n",
              "      <td>Duisenberg in double trouble</td>\n",
              "      <td>Pru to cut pension charges</td>\n",
              "      <td>Art review: Paul Graham</td>\n",
              "      <td>Shearer shot sparks Boro humiliation</td>\n",
              "      <td>Ridsdale's lingering fears as Leeds revisit Tu...</td>\n",
              "      <td>Champions League: Rangers v Galatasaray</td>\n",
              "      <td>Champions League: Lazio v Arsenal</td>\n",
              "      <td>Lazio 1 - 1 Arsenal</td>\n",
              "      <td>England in Pakistan</td>\n",
              "      <td>England given olive-branch reception</td>\n",
              "    </tr>\n",
              "  </tbody>\n",
              "</table>\n",
              "<p>5 rows × 27 columns</p>\n",
              "</div>\n",
              "      <button class=\"colab-df-convert\" onclick=\"convertToInteractive('df-af4cef9a-0c8d-4d03-a68b-0211d8d1e7db')\"\n",
              "              title=\"Convert this dataframe to an interactive table.\"\n",
              "              style=\"display:none;\">\n",
              "        \n",
              "  <svg xmlns=\"http://www.w3.org/2000/svg\" height=\"24px\"viewBox=\"0 0 24 24\"\n",
              "       width=\"24px\">\n",
              "    <path d=\"M0 0h24v24H0V0z\" fill=\"none\"/>\n",
              "    <path d=\"M18.56 5.44l.94 2.06.94-2.06 2.06-.94-2.06-.94-.94-2.06-.94 2.06-2.06.94zm-11 1L8.5 8.5l.94-2.06 2.06-.94-2.06-.94L8.5 2.5l-.94 2.06-2.06.94zm10 10l.94 2.06.94-2.06 2.06-.94-2.06-.94-.94-2.06-.94 2.06-2.06.94z\"/><path d=\"M17.41 7.96l-1.37-1.37c-.4-.4-.92-.59-1.43-.59-.52 0-1.04.2-1.43.59L10.3 9.45l-7.72 7.72c-.78.78-.78 2.05 0 2.83L4 21.41c.39.39.9.59 1.41.59.51 0 1.02-.2 1.41-.59l7.78-7.78 2.81-2.81c.8-.78.8-2.07 0-2.86zM5.41 20L4 18.59l7.72-7.72 1.47 1.35L5.41 20z\"/>\n",
              "  </svg>\n",
              "      </button>\n",
              "      \n",
              "  <style>\n",
              "    .colab-df-container {\n",
              "      display:flex;\n",
              "      flex-wrap:wrap;\n",
              "      gap: 12px;\n",
              "    }\n",
              "\n",
              "    .colab-df-convert {\n",
              "      background-color: #E8F0FE;\n",
              "      border: none;\n",
              "      border-radius: 50%;\n",
              "      cursor: pointer;\n",
              "      display: none;\n",
              "      fill: #1967D2;\n",
              "      height: 32px;\n",
              "      padding: 0 0 0 0;\n",
              "      width: 32px;\n",
              "    }\n",
              "\n",
              "    .colab-df-convert:hover {\n",
              "      background-color: #E2EBFA;\n",
              "      box-shadow: 0px 1px 2px rgba(60, 64, 67, 0.3), 0px 1px 3px 1px rgba(60, 64, 67, 0.15);\n",
              "      fill: #174EA6;\n",
              "    }\n",
              "\n",
              "    [theme=dark] .colab-df-convert {\n",
              "      background-color: #3B4455;\n",
              "      fill: #D2E3FC;\n",
              "    }\n",
              "\n",
              "    [theme=dark] .colab-df-convert:hover {\n",
              "      background-color: #434B5C;\n",
              "      box-shadow: 0px 1px 3px 1px rgba(0, 0, 0, 0.15);\n",
              "      filter: drop-shadow(0px 1px 2px rgba(0, 0, 0, 0.3));\n",
              "      fill: #FFFFFF;\n",
              "    }\n",
              "  </style>\n",
              "\n",
              "      <script>\n",
              "        const buttonEl =\n",
              "          document.querySelector('#df-af4cef9a-0c8d-4d03-a68b-0211d8d1e7db button.colab-df-convert');\n",
              "        buttonEl.style.display =\n",
              "          google.colab.kernel.accessAllowed ? 'block' : 'none';\n",
              "\n",
              "        async function convertToInteractive(key) {\n",
              "          const element = document.querySelector('#df-af4cef9a-0c8d-4d03-a68b-0211d8d1e7db');\n",
              "          const dataTable =\n",
              "            await google.colab.kernel.invokeFunction('convertToInteractive',\n",
              "                                                     [key], {});\n",
              "          if (!dataTable) return;\n",
              "\n",
              "          const docLinkHtml = 'Like what you see? Visit the ' +\n",
              "            '<a target=\"_blank\" href=https://colab.research.google.com/notebooks/data_table.ipynb>data table notebook</a>'\n",
              "            + ' to learn more about interactive tables.';\n",
              "          element.innerHTML = '';\n",
              "          dataTable['output_type'] = 'display_data';\n",
              "          await google.colab.output.renderOutput(dataTable, element);\n",
              "          const docLink = document.createElement('div');\n",
              "          docLink.innerHTML = docLinkHtml;\n",
              "          element.appendChild(docLink);\n",
              "        }\n",
              "      </script>\n",
              "    </div>\n",
              "  </div>\n",
              "  "
            ]
          },
          "metadata": {},
          "execution_count": 8
        }
      ]
    },
    {
      "cell_type": "code",
      "source": [
        "df.isnull().sum() #(df.isna().sum() gives same result)\n",
        "#gives the sum of all null values columns-wise"
      ],
      "metadata": {
        "id": "JypgehcpMwCa",
        "colab": {
          "base_uri": "https://localhost:8080/"
        },
        "outputId": "e3ba40c0-d9d7-46ba-b554-158365b55f85"
      },
      "execution_count": 9,
      "outputs": [
        {
          "output_type": "execute_result",
          "data": {
            "text/plain": [
              "Date       0\n",
              "Label      0\n",
              "News 1     0\n",
              "News 2     0\n",
              "News 3     0\n",
              "News 4     0\n",
              "News 5     0\n",
              "News 6     0\n",
              "News 7     0\n",
              "News 8     0\n",
              "News 9     0\n",
              "News 10    0\n",
              "News 11    0\n",
              "News 12    0\n",
              "News 13    0\n",
              "News 14    0\n",
              "News 15    0\n",
              "News 16    0\n",
              "News 17    0\n",
              "News 18    0\n",
              "News 19    0\n",
              "News 20    0\n",
              "News 21    0\n",
              "News 22    0\n",
              "News 23    1\n",
              "News 24    3\n",
              "News 25    3\n",
              "dtype: int64"
            ]
          },
          "metadata": {},
          "execution_count": 9
        }
      ]
    },
    {
      "cell_type": "code",
      "source": [
        "df.nunique()   #gives total no. of unique entries "
      ],
      "metadata": {
        "id": "saxFvBEPdbqJ",
        "colab": {
          "base_uri": "https://localhost:8080/"
        },
        "outputId": "dbdb41f6-9697-4c1d-bc24-6da106306c7e"
      },
      "execution_count": 10,
      "outputs": [
        {
          "output_type": "execute_result",
          "data": {
            "text/plain": [
              "Date       4101\n",
              "Label         2\n",
              "News 1     4074\n",
              "News 2     4082\n",
              "News 3     4081\n",
              "News 4     4087\n",
              "News 5     4070\n",
              "News 6     4075\n",
              "News 7     4078\n",
              "News 8     4080\n",
              "News 9     4085\n",
              "News 10    4077\n",
              "News 11    4074\n",
              "News 12    4080\n",
              "News 13    4082\n",
              "News 14    4081\n",
              "News 15    4083\n",
              "News 16    4083\n",
              "News 17    4077\n",
              "News 18    4082\n",
              "News 19    4078\n",
              "News 20    4078\n",
              "News 21    4077\n",
              "News 22    4078\n",
              "News 23    4072\n",
              "News 24    4078\n",
              "News 25    4066\n",
              "dtype: int64"
            ]
          },
          "metadata": {},
          "execution_count": 10
        }
      ]
    },
    {
      "cell_type": "code",
      "source": [
        "df.columns  #give column names in the dataframe"
      ],
      "metadata": {
        "id": "yLMkBaJvMucs",
        "colab": {
          "base_uri": "https://localhost:8080/"
        },
        "outputId": "fd84d78d-64c0-4cf8-ca1e-a4a695d8009b"
      },
      "execution_count": 11,
      "outputs": [
        {
          "output_type": "execute_result",
          "data": {
            "text/plain": [
              "Index(['Date', 'Label', 'News 1', 'News 2', 'News 3', 'News 4', 'News 5',\n",
              "       'News 6', 'News 7', 'News 8', 'News 9', 'News 10', 'News 11', 'News 12',\n",
              "       'News 13', 'News 14', 'News 15', 'News 16', 'News 17', 'News 18',\n",
              "       'News 19', 'News 20', 'News 21', 'News 22', 'News 23', 'News 24',\n",
              "       'News 25'],\n",
              "      dtype='object')"
            ]
          },
          "metadata": {},
          "execution_count": 11
        }
      ]
    },
    {
      "cell_type": "code",
      "source": [
        "df.shape"
      ],
      "metadata": {
        "id": "opkkhWW5iEpD",
        "colab": {
          "base_uri": "https://localhost:8080/"
        },
        "outputId": "cd815ea8-08c2-4bc2-a05e-a9c9880fe092"
      },
      "execution_count": 12,
      "outputs": [
        {
          "output_type": "execute_result",
          "data": {
            "text/plain": [
              "(4101, 27)"
            ]
          },
          "metadata": {},
          "execution_count": 12
        }
      ]
    },
    {
      "cell_type": "markdown",
      "source": [
        "#Get Feature Selection"
      ],
      "metadata": {
        "id": "uywC-_fiyJ6n"
      }
    },
    {
      "cell_type": "code",
      "source": [
        "' '.join(str(x) for x in df.iloc[1,2:27])"
      ],
      "metadata": {
        "id": "WLeAfdyX-kxv",
        "colab": {
          "base_uri": "https://localhost:8080/",
          "height": 174
        },
        "outputId": "ed0f33a7-40e6-49a4-daba-cfe84ea1ba8f"
      },
      "execution_count": 13,
      "outputs": [
        {
          "output_type": "execute_result",
          "data": {
            "text/plain": [
              "\"Warning from history points to crash Investors flee to dollar haven Banks and tobacco in favour Review: Llama Farmers War jitters lead to sell-off Your not-so-secret history Review: The Northern Sinfonia Review: Hysteria Review: The Guardsman Opera: The Marriage of Figaro Review: The Turk in Italy Deutsche spells out its plans for diversification Traders' panic sends oil prices skyward TV sport chief leaves home over romance Leader: Hi-tech twitch Why Wenger will stick to his Gunners Out of luck England hit rock bottom Wilkinson out of his depth Kinsella sparks Irish power play Brown banished as Scots rebound Battling Wales cling to lifeline Ehiogu close to sealing Boro move Man-to-man marking Match stats French referee at centre of storm is no stranger to controversy\""
            ],
            "application/vnd.google.colaboratory.intrinsic+json": {
              "type": "string"
            }
          },
          "metadata": {},
          "execution_count": 13
        }
      ]
    },
    {
      "cell_type": "code",
      "source": [
        "df.index"
      ],
      "metadata": {
        "id": "L0icsDhA-noq",
        "colab": {
          "base_uri": "https://localhost:8080/"
        },
        "outputId": "e1227945-e474-498c-e24a-9f4c4caf0ef3"
      },
      "execution_count": 14,
      "outputs": [
        {
          "output_type": "execute_result",
          "data": {
            "text/plain": [
              "RangeIndex(start=0, stop=4101, step=1)"
            ]
          },
          "metadata": {},
          "execution_count": 14
        }
      ]
    },
    {
      "cell_type": "code",
      "source": [
        "len(df.index)"
      ],
      "metadata": {
        "colab": {
          "base_uri": "https://localhost:8080/"
        },
        "id": "LuSABLVAyvm1",
        "outputId": "6ac4271f-68f1-49cd-9677-ef08ebbb68ab"
      },
      "execution_count": 15,
      "outputs": [
        {
          "output_type": "execute_result",
          "data": {
            "text/plain": [
              "4101"
            ]
          },
          "metadata": {},
          "execution_count": 15
        }
      ]
    },
    {
      "cell_type": "code",
      "source": [
        "news=[]\n",
        "for row in range(0, len(df.index)):\n",
        "  news.append(' '.join(str(x) for x in df.iloc[row,2:27]))"
      ],
      "metadata": {
        "id": "wfyJtRxtyxzQ"
      },
      "execution_count": 16,
      "outputs": []
    },
    {
      "cell_type": "code",
      "source": [
        "type(news)"
      ],
      "metadata": {
        "colab": {
          "base_uri": "https://localhost:8080/"
        },
        "id": "GeAsbIyqzE0X",
        "outputId": "83457ba9-fa8e-433d-c111-6c4e35580073"
      },
      "execution_count": 17,
      "outputs": [
        {
          "output_type": "execute_result",
          "data": {
            "text/plain": [
              "list"
            ]
          },
          "metadata": {},
          "execution_count": 17
        }
      ]
    },
    {
      "cell_type": "code",
      "source": [
        "news[0]"
      ],
      "metadata": {
        "colab": {
          "base_uri": "https://localhost:8080/",
          "height": 191
        },
        "id": "-wbxlNTlzv0J",
        "outputId": "59d26526-1ab5-45c4-ba34-dcf267e250c1"
      },
      "execution_count": 18,
      "outputs": [
        {
          "output_type": "execute_result",
          "data": {
            "text/plain": [
              "\"McIlroy's men catch cold from Gudjonsson Obituary: Brian Walsh Workplace blues leave employers in the red Classical review: Rattle Dance review: Merce Cunningham Genetic tests to be used in setting premiums Opera review: La Bohème Pop review: Britney Spears Theatre review: The Circle Wales face a fraught night Under-21  round-up Smith off to blot his copybook Finns taking the mickey Praise wasted as Brown studies injury options Ireland wary of minnows Finland 0 - 0 England Healy a marked man Happy birthday Harpers & Queen Win unlimited access to the Raindance film festival Labour pledges £800m to bridge north-south divide Wales: Lib-Lab pact firm despite resignation Donald Dewar Regenerating homes  regenerates well-being in people Win £100 worth of underwear TV guide: Random views\""
            ],
            "application/vnd.google.colaboratory.intrinsic+json": {
              "type": "string"
            }
          },
          "metadata": {},
          "execution_count": 18
        }
      ]
    },
    {
      "cell_type": "code",
      "source": [
        "X=news"
      ],
      "metadata": {
        "id": "PIk8lDjQ0k6K"
      },
      "execution_count": 19,
      "outputs": []
    },
    {
      "cell_type": "code",
      "source": [
        "type(news)"
      ],
      "metadata": {
        "colab": {
          "base_uri": "https://localhost:8080/"
        },
        "id": "SNWYxrqa9XnM",
        "outputId": "2c16622d-8155-41f7-a4d5-e693d10383c4"
      },
      "execution_count": 20,
      "outputs": [
        {
          "output_type": "execute_result",
          "data": {
            "text/plain": [
              "list"
            ]
          },
          "metadata": {},
          "execution_count": 20
        }
      ]
    },
    {
      "cell_type": "markdown",
      "source": [
        "# Get Feature Text conversion to Bag of Words"
      ],
      "metadata": {
        "id": "O85VYkR39ayC"
      }
    },
    {
      "cell_type": "code",
      "source": [
        "from sklearn.feature_extraction.text import CountVectorizer"
      ],
      "metadata": {
        "id": "4EkUgNih9Y1l"
      },
      "execution_count": 21,
      "outputs": []
    },
    {
      "cell_type": "code",
      "source": [
        "cv=CountVectorizer(lowercase=True, ngram_range=(1,1))"
      ],
      "metadata": {
        "id": "Mzeem5eI9n6x"
      },
      "execution_count": 22,
      "outputs": []
    },
    {
      "cell_type": "code",
      "source": [
        "X=cv.fit_transform(X)"
      ],
      "metadata": {
        "id": "rfL8JR6Z9xkt"
      },
      "execution_count": 24,
      "outputs": []
    },
    {
      "cell_type": "code",
      "source": [
        "X.shape"
      ],
      "metadata": {
        "colab": {
          "base_uri": "https://localhost:8080/"
        },
        "id": "raUWfqHC-DdY",
        "outputId": "677b50f0-7a6a-42bc-b46e-47eb828e5445"
      },
      "execution_count": 25,
      "outputs": [
        {
          "output_type": "execute_result",
          "data": {
            "text/plain": [
              "(4101, 48527)"
            ]
          },
          "metadata": {},
          "execution_count": 25
        }
      ]
    },
    {
      "cell_type": "code",
      "source": [
        "X"
      ],
      "metadata": {
        "colab": {
          "base_uri": "https://localhost:8080/"
        },
        "id": "LGoJm4Wu-Td0",
        "outputId": "384424ce-8bb4-4fc5-aa5a-871744800347"
      },
      "execution_count": 30,
      "outputs": [
        {
          "output_type": "execute_result",
          "data": {
            "text/plain": [
              "<4101x48527 sparse matrix of type '<class 'numpy.int64'>'\n",
              "\twith 872946 stored elements in Compressed Sparse Row format>"
            ]
          },
          "metadata": {},
          "execution_count": 30
        }
      ]
    },
    {
      "cell_type": "code",
      "source": [
        "y=df['Label']"
      ],
      "metadata": {
        "id": "pdl_UeLf-J9H"
      },
      "execution_count": 26,
      "outputs": []
    },
    {
      "cell_type": "code",
      "source": [
        "y.shape"
      ],
      "metadata": {
        "colab": {
          "base_uri": "https://localhost:8080/"
        },
        "id": "wK-4wAZJ-NSt",
        "outputId": "6f94f42c-ecc7-41c1-e904-e7a53c36d03e"
      },
      "execution_count": 27,
      "outputs": [
        {
          "output_type": "execute_result",
          "data": {
            "text/plain": [
              "(4101,)"
            ]
          },
          "metadata": {},
          "execution_count": 27
        }
      ]
    },
    {
      "cell_type": "markdown",
      "metadata": {
        "id": "qb_vcgm3qZKW"
      },
      "source": [
        "# Splitting the dataset into the Training set and Test set"
      ]
    },
    {
      "cell_type": "code",
      "metadata": {
        "id": "VyMY7YZZ1JFh"
      },
      "source": [
        "from sklearn.model_selection import train_test_split\n",
        "X_train, X_test, y_train, y_test = train_test_split(X, y, test_size = 0.3, \n",
        "                                      stratify=y, random_state = 1)"
      ],
      "execution_count": 33,
      "outputs": []
    },
    {
      "cell_type": "code",
      "source": [
        "X_train.shape, X_test.shape, y_train.shape, y_test.shape"
      ],
      "metadata": {
        "colab": {
          "base_uri": "https://localhost:8080/"
        },
        "outputId": "f5ad36fa-7f72-4daf-e8ac-270d3b7f2132",
        "id": "rg26QFs31JFh"
      },
      "execution_count": 34,
      "outputs": [
        {
          "output_type": "execute_result",
          "data": {
            "text/plain": [
              "((2870, 48527), (1231, 48527), (2870,), (1231,))"
            ]
          },
          "metadata": {},
          "execution_count": 34
        }
      ]
    },
    {
      "cell_type": "markdown",
      "source": [
        "# Model "
      ],
      "metadata": {
        "id": "ORC0mkxl_GbR"
      }
    },
    {
      "cell_type": "code",
      "source": [
        "from sklearn.ensemble import RandomForestClassifier\n",
        "rf=RandomForestClassifier()\n",
        "rf.fit(X_train,y_train)"
      ],
      "metadata": {
        "id": "yzUkVMto-Mz4",
        "colab": {
          "base_uri": "https://localhost:8080/"
        },
        "outputId": "84e2a5e1-98f7-4fcd-8858-1ebf966fc092"
      },
      "execution_count": 35,
      "outputs": [
        {
          "output_type": "execute_result",
          "data": {
            "text/plain": [
              "RandomForestClassifier()"
            ]
          },
          "metadata": {},
          "execution_count": 35
        }
      ]
    },
    {
      "cell_type": "markdown",
      "source": [
        "# Model Prediction"
      ],
      "metadata": {
        "id": "FQsBAy-70_uT"
      }
    },
    {
      "cell_type": "code",
      "source": [
        "y_pred=rf.predict(X_test)"
      ],
      "metadata": {
        "id": "670o7-Nk0_uT"
      },
      "execution_count": 37,
      "outputs": []
    },
    {
      "cell_type": "code",
      "source": [
        "y_pred.shape"
      ],
      "metadata": {
        "colab": {
          "base_uri": "https://localhost:8080/"
        },
        "id": "M2kmMuwluYKh",
        "outputId": "e8a05d87-ce32-4d2a-a44b-8a257404399d"
      },
      "execution_count": 38,
      "outputs": [
        {
          "output_type": "execute_result",
          "data": {
            "text/plain": [
              "(1231,)"
            ]
          },
          "metadata": {},
          "execution_count": 38
        }
      ]
    },
    {
      "cell_type": "markdown",
      "source": [
        "# Get Model Evaluation"
      ],
      "metadata": {
        "id": "wAftYuuyk2aU"
      }
    },
    {
      "cell_type": "code",
      "source": [
        "from sklearn.metrics import accuracy_score, confusion_matrix, classification_report"
      ],
      "metadata": {
        "id": "TAjxBtpF07Mq"
      },
      "execution_count": 39,
      "outputs": []
    },
    {
      "cell_type": "code",
      "source": [
        "accuracy_score(y_test,y_pred)"
      ],
      "metadata": {
        "id": "fgzc6Nm1_ZWW",
        "colab": {
          "base_uri": "https://localhost:8080/"
        },
        "outputId": "af197bde-2e9b-4a06-844a-9bbba7dca037"
      },
      "execution_count": 40,
      "outputs": [
        {
          "output_type": "execute_result",
          "data": {
            "text/plain": [
              "0.5174654752233956"
            ]
          },
          "metadata": {},
          "execution_count": 40
        }
      ]
    },
    {
      "cell_type": "code",
      "source": [
        "confusion_matrix(y_test,y_pred)"
      ],
      "metadata": {
        "id": "9oMW4-W207Mq",
        "colab": {
          "base_uri": "https://localhost:8080/"
        },
        "outputId": "66a69fe6-b82e-4aaa-9e53-e517ef6cdf1a"
      },
      "execution_count": 41,
      "outputs": [
        {
          "output_type": "execute_result",
          "data": {
            "text/plain": [
              "array([[168, 413],\n",
              "       [181, 469]])"
            ]
          },
          "metadata": {},
          "execution_count": 41
        }
      ]
    },
    {
      "cell_type": "code",
      "source": [
        "print(classification_report(y_test,y_pred))"
      ],
      "metadata": {
        "colab": {
          "base_uri": "https://localhost:8080/"
        },
        "id": "tQmXCPZXun-A",
        "outputId": "420eb315-bd16-4d92-eaf0-42bc34a24454"
      },
      "execution_count": 42,
      "outputs": [
        {
          "output_type": "stream",
          "name": "stdout",
          "text": [
            "              precision    recall  f1-score   support\n",
            "\n",
            "           0       0.48      0.29      0.36       581\n",
            "           1       0.53      0.72      0.61       650\n",
            "\n",
            "    accuracy                           0.52      1231\n",
            "   macro avg       0.51      0.51      0.49      1231\n",
            "weighted avg       0.51      0.52      0.49      1231\n",
            "\n"
          ]
        }
      ]
    },
    {
      "cell_type": "code",
      "source": [
        "rf.predict_proba(X_test)"
      ],
      "metadata": {
        "id": "RAnPe8G6uyfC",
        "colab": {
          "base_uri": "https://localhost:8080/"
        },
        "outputId": "5f98c05b-80f2-4a15-fb67-eb7a7e9a6038"
      },
      "execution_count": 44,
      "outputs": [
        {
          "output_type": "execute_result",
          "data": {
            "text/plain": [
              "array([[0.58, 0.42],\n",
              "       [0.49, 0.51],\n",
              "       [0.6 , 0.4 ],\n",
              "       ...,\n",
              "       [0.6 , 0.4 ],\n",
              "       [0.5 , 0.5 ],\n",
              "       [0.57, 0.43]])"
            ]
          },
          "metadata": {},
          "execution_count": 44
        }
      ]
    }
  ]
}